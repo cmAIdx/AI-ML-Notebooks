{
 "cells": [
  {
   "cell_type": "markdown",
   "id": "65af1398",
   "metadata": {},
   "source": [
    "# K-Means Clustering Analysis on Story Points\n",
    "\n",
    "This Jupyter Notebook outlines the process of performing a K-Means clustering analysis with a focus on 'story points' as the primary independent variable. The steps include data loading, preprocessing, applying K-Means clustering, and evaluating the results.\n",
    "\n",
    "## Importing Necessary Libraries\n",
    "\n",
    "Before we start, let's import the necessary libraries for our analysis."
   ]
  },
  {
   "cell_type": "code",
   "execution_count": null,
   "id": "4585882c",
   "metadata": {},
   "outputs": [],
   "source": [
    "import pandas as pd\n",
    "from sklearn.cluster import KMeans\n",
    "from sklearn.preprocessing import StandardScaler\n",
    "import matplotlib.pyplot as plt\n",
    "import seaborn as sns\n",
    "import numpy as np\n",
    "\n",
    "# Display settings\n",
    "pd.options.display.max_columns = None\n",
    "sns.set(style=\"whitegrid\")"
   ]
  },
  {
   "cell_type": "markdown",
   "id": "e1531538",
   "metadata": {},
   "source": [
    "## Data Loading\n",
    "\n",
    "Let's load the dataset and take a quick look at its first few rows to understand its structure."
   ]
  },
  {
   "cell_type": "code",
   "execution_count": null,
   "id": "ef23ff76",
   "metadata": {},
   "outputs": [],
   "source": [
    "# Load the dataset\n",
    "data_path = 'path_to_your_dataset.csv'\n",
    "data = pd.read_csv(data_path)\n",
    "\n",
    "# Display the first few rows of the dataset\n",
    "data.head()"
   ]
  },
  {
   "cell_type": "markdown",
   "id": "0bc1c692",
   "metadata": {},
   "source": [
    "## Data Exploration and Cleaning\n",
    "\n",
    "In this section, we will explore the 'story points' column, handle missing values, and prepare the data for clustering."
   ]
  },
  {
   "cell_type": "code",
   "execution_count": null,
   "id": "c0b46cb8",
   "metadata": {},
   "outputs": [],
   "source": [
    "# Exploring 'story points' column\n",
    "print(data['Story points'].describe())\n",
    "\n",
    "# Handling missing values\n",
    "# Here we drop rows where 'story points' is missing as it's crucial for our analysis\n",
    "cleaned_data = data.dropna(subset=['Story points'])\n",
    "\n",
    "# Let's look at the cleaned data\n",
    "cleaned_data['Story points'].describe()"
   ]
  },
  {
   "cell_type": "markdown",
   "id": "7187be59",
   "metadata": {},
   "source": [
    "## K-Means Clustering\n",
    "\n",
    "We will now perform K-Means clustering on the 'story points'. Before clustering, it's essential to scale our data."
   ]
  },
  {
   "cell_type": "code",
   "execution_count": null,
   "id": "7e8cc301",
   "metadata": {},
   "outputs": [],
   "source": [
    "# Scaling the 'Story points'\n",
    "scaler = StandardScaler()\n",
    "scaled_features = scaler.fit_transform(cleaned_data[['Story points']])\n",
    "\n",
    "# Applying K-Means\n",
    "# We choose an arbitrary k for now, but this should ideally be determined using a method like the elbow method\n",
    "kmeans = KMeans(n_clusters=3, random_state=42)\n",
    "kmeans.fit(scaled_features)\n",
    "\n",
    "# Adding the cluster labels to our dataset\n",
    "cleaned_data['Cluster'] = kmeans.labels_\n",
    "\n",
    "cleaned_data.head()"
   ]
  },
  {
   "cell_type": "markdown",
   "id": "4a0d6091",
   "metadata": {},
   "source": [
    "## Evaluation\n",
    "\n",
    "Let's visualize the clusters formed by our K-means model to evaluate how well the 'story points' have been grouped."
   ]
  },
  {
   "cell_type": "code",
   "execution_count": null,
   "id": "98fed412",
   "metadata": {},
   "outputs": [],
   "source": [
    "# Visualizing the clusters\n",
    "plt.figure(figsize=(10, 6))\n",
    "sns.scatterplot(x=cleaned_data.index, y='Story points', hue='Cluster', data=cleaned_data, palette='viridis')\n",
    "plt.title('K-Means Clustering of Story Points')\n",
    "plt.xlabel('Index')\n",
    "plt.ylabel('Story Points')\n",
    "plt.show()"
   ]
  }
 ],
 "metadata": {},
 "nbformat": 4,
 "nbformat_minor": 5
}
