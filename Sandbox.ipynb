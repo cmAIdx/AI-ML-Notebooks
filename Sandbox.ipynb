{
  "nbformat": 4,
  "nbformat_minor": 0,
  "metadata": {
    "colab": {
      "provenance": [],
      "authorship_tag": "ABX9TyPH8Waw2BsleCdGxNeEtsNK",
      "include_colab_link": true
    },
    "kernelspec": {
      "name": "python3",
      "display_name": "Python 3"
    },
    "language_info": {
      "name": "python"
    }
  },
  "cells": [
    {
      "cell_type": "markdown",
      "metadata": {
        "id": "view-in-github",
        "colab_type": "text"
      },
      "source": [
        "<a href=\"https://colab.research.google.com/github/cmAIdx/ml_learning_notebooks/blob/main/Sandbox.ipynb\" target=\"_parent\"><img src=\"https://colab.research.google.com/assets/colab-badge.svg\" alt=\"Open In Colab\"/></a>"
      ]
    },
    {
      "cell_type": "code",
      "execution_count": 1,
      "metadata": {
        "colab": {
          "base_uri": "https://localhost:8080/"
        },
        "id": "Li71b1jqaO5z",
        "outputId": "be89ccf2-7a41-478d-e46d-476362d58d2f"
      },
      "outputs": [
        {
          "output_type": "stream",
          "name": "stdout",
          "text": [
            "Mounted at /content/drive\n"
          ]
        }
      ],
      "source": [
        "from google.colab import drive\n",
        "drive.mount('/content/drive')\n",
        "\n",
        "import pandas as pd\n",
        "import plotly.express as px\n",
        "\n",
        "# Load the Excel file\n",
        "file_path = 'path/to/your_excel_file.xlsx'  # Update this to the path of your Excel file\n",
        "sheet_name = 'your_sheet_name'  # Update this to your sheet name\n",
        "df = pd.read_excel(file_path, sheet_name=sheet_name)\n",
        "\n",
        "# Assuming the DataFrame 'df' is structured with columns: 'Parent', 'Hierarchy', 'Releases', 'Title', 'Story points', and 'Issue status'\n",
        "# If your data has different columns or needs additional processing, adjust the following steps accordingly.\n",
        "\n",
        "# Preparing the simplified DataFrame for visualization\n",
        "# Here, we're assuming you want to include all data. If you need to filter or adjust, do so before this step.\n",
        "simple_df = df.copy()\n",
        "\n",
        "# Data Cleaning: Setting NaN 'Story points' to 0 and filling non-numeric columns with \"Future\"\n",
        "simple_df['Story points'] = pd.to_numeric(simple_df['Story points'], errors='coerce').fillna(0)\n",
        "non_numeric_columns = simple_df.select_dtypes(exclude=['number']).columns\n",
        "simple_df[non_numeric_columns] = simple_df[non_numeric_columns].fillna(\"Future\")\n",
        "\n",
        "# Generating the Treemap Visualization\n",
        "fig_tree_cleaned = px.treemap(\n",
        "    simple_df,\n",
        "    path=['Parent', 'Hierarchy', 'Title'],\n",
        "    values='Story points',\n",
        "    title='Treemap of Parent Hierarchy and Story Points (Cleaned)'\n",
        ")\n",
        "\n",
        "fig_tree_cleaned.show()\n"
      ]
    },
    {
      "cell_type": "code",
      "source": [
        "from google.colab import drive\n",
        "drive.mount('/content/drive')"
      ],
      "metadata": {
        "id": "YVqWD-ZVaqy3"
      },
      "execution_count": null,
      "outputs": []
    }
  ]
}